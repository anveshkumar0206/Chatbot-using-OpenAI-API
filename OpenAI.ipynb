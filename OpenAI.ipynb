{
  "cells": [
    {
      "cell_type": "code",
      "execution_count": null,
      "id": "913f8e21-f49c-4c64-82f7-3da0f5f2baa8",
      "metadata": {
        "id": "913f8e21-f49c-4c64-82f7-3da0f5f2baa8",
        "outputId": "d7fa8a9c-31d8-42f4-8e56-b8e0f36d4f1c"
      },
      "outputs": [
        {
          "name": "stdout",
          "output_type": "stream",
          "text": [
            "Requirement already satisfied: openai in /opt/conda/lib/python3.10/site-packages (0.28.0)\n",
            "Requirement already satisfied: requests>=2.20 in /opt/conda/lib/python3.10/site-packages (from openai) (2.31.0)\n",
            "Requirement already satisfied: tqdm in /opt/conda/lib/python3.10/site-packages (from openai) (4.65.0)\n",
            "Requirement already satisfied: aiohttp in /opt/conda/lib/python3.10/site-packages (from openai) (3.11.9)\n",
            "Requirement already satisfied: charset-normalizer<4,>=2 in /opt/conda/lib/python3.10/site-packages (from requests>=2.20->openai) (2.0.4)\n",
            "Requirement already satisfied: idna<4,>=2.5 in /opt/conda/lib/python3.10/site-packages (from requests>=2.20->openai) (3.4)\n",
            "Requirement already satisfied: urllib3<3,>=1.21.1 in /opt/conda/lib/python3.10/site-packages (from requests>=2.20->openai) (1.26.18)\n",
            "Requirement already satisfied: certifi>=2017.4.17 in /opt/conda/lib/python3.10/site-packages (from requests>=2.20->openai) (2023.11.17)\n",
            "Requirement already satisfied: aiohappyeyeballs>=2.3.0 in /opt/conda/lib/python3.10/site-packages (from aiohttp->openai) (2.4.4)\n",
            "Requirement already satisfied: aiosignal>=1.1.2 in /opt/conda/lib/python3.10/site-packages (from aiohttp->openai) (1.3.1)\n",
            "Requirement already satisfied: async-timeout<6.0,>=4.0 in /opt/conda/lib/python3.10/site-packages (from aiohttp->openai) (5.0.1)\n",
            "Requirement already satisfied: attrs>=17.3.0 in /opt/conda/lib/python3.10/site-packages (from aiohttp->openai) (24.2.0)\n",
            "Requirement already satisfied: frozenlist>=1.1.1 in /opt/conda/lib/python3.10/site-packages (from aiohttp->openai) (1.5.0)\n",
            "Requirement already satisfied: multidict<7.0,>=4.5 in /opt/conda/lib/python3.10/site-packages (from aiohttp->openai) (6.1.0)\n",
            "Requirement already satisfied: propcache>=0.2.0 in /opt/conda/lib/python3.10/site-packages (from aiohttp->openai) (0.2.1)\n",
            "Requirement already satisfied: yarl<2.0,>=1.17.0 in /opt/conda/lib/python3.10/site-packages (from aiohttp->openai) (1.18.3)\n",
            "Requirement already satisfied: typing-extensions>=4.1.0 in /opt/conda/lib/python3.10/site-packages (from multidict<7.0,>=4.5->aiohttp->openai) (4.12.2)\n",
            "\u001b[33mWARNING: Running pip as the 'root' user can result in broken permissions and conflicting behaviour with the system package manager. It is recommended to use a virtual environment instead: https://pip.pypa.io/warnings/venv\u001b[0m\u001b[33m\n",
            "\u001b[0mRequirement already satisfied: PyPDF2 in /opt/conda/lib/python3.10/site-packages (3.0.1)\n",
            "\u001b[33mWARNING: Running pip as the 'root' user can result in broken permissions and conflicting behaviour with the system package manager. It is recommended to use a virtual environment instead: https://pip.pypa.io/warnings/venv\u001b[0m\u001b[33m\n",
            "\u001b[0m"
          ]
        }
      ],
      "source": [
        "!pip install openai\n",
        "!pip install PyPDF2\n"
      ]
    },
    {
      "cell_type": "code",
      "execution_count": null,
      "id": "ea08e9be-9540-4761-ae80-f9fe478d4b43",
      "metadata": {
        "id": "ea08e9be-9540-4761-ae80-f9fe478d4b43",
        "outputId": "17839855-da23-4018-e994-05d3b4e78f15"
      },
      "outputs": [
        {
          "name": "stdout",
          "output_type": "stream",
          "text": [
            "Requirement already satisfied: openai in /opt/conda/lib/python3.10/site-packages (0.28.0)\n",
            "Collecting openai\n",
            "  Using cached openai-1.55.3-py3-none-any.whl.metadata (24 kB)\n",
            "Requirement already satisfied: anyio<5,>=3.5.0 in /opt/conda/lib/python3.10/site-packages (from openai) (4.1.0)\n",
            "Requirement already satisfied: distro<2,>=1.7.0 in /opt/conda/lib/python3.10/site-packages (from openai) (1.8.0)\n",
            "Requirement already satisfied: httpx<1,>=0.23.0 in /opt/conda/lib/python3.10/site-packages (from openai) (0.28.0)\n",
            "Requirement already satisfied: jiter<1,>=0.4.0 in /opt/conda/lib/python3.10/site-packages (from openai) (0.8.0)\n",
            "Requirement already satisfied: pydantic<3,>=1.9.0 in /opt/conda/lib/python3.10/site-packages (from openai) (2.10.2)\n",
            "Requirement already satisfied: sniffio in /opt/conda/lib/python3.10/site-packages (from openai) (1.3.0)\n",
            "Requirement already satisfied: tqdm>4 in /opt/conda/lib/python3.10/site-packages (from openai) (4.65.0)\n",
            "Requirement already satisfied: typing-extensions<5,>=4.11 in /opt/conda/lib/python3.10/site-packages (from openai) (4.12.2)\n",
            "Requirement already satisfied: idna>=2.8 in /opt/conda/lib/python3.10/site-packages (from anyio<5,>=3.5.0->openai) (3.4)\n",
            "Requirement already satisfied: exceptiongroup>=1.0.2 in /opt/conda/lib/python3.10/site-packages (from anyio<5,>=3.5.0->openai) (1.0.4)\n",
            "Requirement already satisfied: certifi in /opt/conda/lib/python3.10/site-packages (from httpx<1,>=0.23.0->openai) (2023.11.17)\n",
            "Requirement already satisfied: httpcore==1.* in /opt/conda/lib/python3.10/site-packages (from httpx<1,>=0.23.0->openai) (1.0.7)\n",
            "Requirement already satisfied: h11<0.15,>=0.13 in /opt/conda/lib/python3.10/site-packages (from httpcore==1.*->httpx<1,>=0.23.0->openai) (0.14.0)\n",
            "Requirement already satisfied: annotated-types>=0.6.0 in /opt/conda/lib/python3.10/site-packages (from pydantic<3,>=1.9.0->openai) (0.7.0)\n",
            "Requirement already satisfied: pydantic-core==2.27.1 in /opt/conda/lib/python3.10/site-packages (from pydantic<3,>=1.9.0->openai) (2.27.1)\n",
            "Using cached openai-1.55.3-py3-none-any.whl (389 kB)\n",
            "Installing collected packages: openai\n",
            "  Attempting uninstall: openai\n",
            "    Found existing installation: openai 0.28.0\n",
            "    Uninstalling openai-0.28.0:\n",
            "      Successfully uninstalled openai-0.28.0\n",
            "Successfully installed openai-1.55.3\n",
            "\u001b[33mWARNING: Running pip as the 'root' user can result in broken permissions and conflicting behaviour with the system package manager. It is recommended to use a virtual environment instead: https://pip.pypa.io/warnings/venv\u001b[0m\u001b[33m\n",
            "\u001b[0m"
          ]
        }
      ],
      "source": [
        "!pip install --upgrade openai\n"
      ]
    },
    {
      "cell_type": "code",
      "execution_count": null,
      "id": "6ede0733-e927-433f-a4b3-fc6f98de2928",
      "metadata": {
        "id": "6ede0733-e927-433f-a4b3-fc6f98de2928",
        "outputId": "fac7cefe-f8f1-47c7-e77f-2370f83fef09"
      },
      "outputs": [
        {
          "name": "stdout",
          "output_type": "stream",
          "text": [
            "Name: openai\n",
            "Version: 1.55.3\n",
            "Summary: The official Python library for the openai API\n",
            "Home-page: \n",
            "Author: \n",
            "Author-email: OpenAI <support@openai.com>\n",
            "License: Apache-2.0\n",
            "Location: /opt/conda/lib/python3.10/site-packages\n",
            "Requires: anyio, distro, httpx, jiter, pydantic, sniffio, tqdm, typing-extensions\n",
            "Required-by: \n"
          ]
        }
      ],
      "source": [
        "!pip show openai\n"
      ]
    },
    {
      "cell_type": "code",
      "execution_count": null,
      "id": "8e32d406-55a6-4470-918d-870fba5c3e57",
      "metadata": {
        "id": "8e32d406-55a6-4470-918d-870fba5c3e57",
        "outputId": "042108ac-8b7f-4997-dda3-f8abf0fc14f3"
      },
      "outputs": [
        {
          "name": "stdout",
          "output_type": "stream",
          "text": [
            "Collecting openai==0.28.0\n",
            "  Using cached openai-0.28.0-py3-none-any.whl.metadata (13 kB)\n",
            "Requirement already satisfied: requests>=2.20 in /opt/conda/lib/python3.10/site-packages (from openai==0.28.0) (2.31.0)\n",
            "Requirement already satisfied: tqdm in /opt/conda/lib/python3.10/site-packages (from openai==0.28.0) (4.65.0)\n",
            "Requirement already satisfied: aiohttp in /opt/conda/lib/python3.10/site-packages (from openai==0.28.0) (3.11.9)\n",
            "Requirement already satisfied: charset-normalizer<4,>=2 in /opt/conda/lib/python3.10/site-packages (from requests>=2.20->openai==0.28.0) (2.0.4)\n",
            "Requirement already satisfied: idna<4,>=2.5 in /opt/conda/lib/python3.10/site-packages (from requests>=2.20->openai==0.28.0) (3.4)\n",
            "Requirement already satisfied: urllib3<3,>=1.21.1 in /opt/conda/lib/python3.10/site-packages (from requests>=2.20->openai==0.28.0) (1.26.18)\n",
            "Requirement already satisfied: certifi>=2017.4.17 in /opt/conda/lib/python3.10/site-packages (from requests>=2.20->openai==0.28.0) (2023.11.17)\n",
            "Requirement already satisfied: aiohappyeyeballs>=2.3.0 in /opt/conda/lib/python3.10/site-packages (from aiohttp->openai==0.28.0) (2.4.4)\n",
            "Requirement already satisfied: aiosignal>=1.1.2 in /opt/conda/lib/python3.10/site-packages (from aiohttp->openai==0.28.0) (1.3.1)\n",
            "Requirement already satisfied: async-timeout<6.0,>=4.0 in /opt/conda/lib/python3.10/site-packages (from aiohttp->openai==0.28.0) (5.0.1)\n",
            "Requirement already satisfied: attrs>=17.3.0 in /opt/conda/lib/python3.10/site-packages (from aiohttp->openai==0.28.0) (24.2.0)\n",
            "Requirement already satisfied: frozenlist>=1.1.1 in /opt/conda/lib/python3.10/site-packages (from aiohttp->openai==0.28.0) (1.5.0)\n",
            "Requirement already satisfied: multidict<7.0,>=4.5 in /opt/conda/lib/python3.10/site-packages (from aiohttp->openai==0.28.0) (6.1.0)\n",
            "Requirement already satisfied: propcache>=0.2.0 in /opt/conda/lib/python3.10/site-packages (from aiohttp->openai==0.28.0) (0.2.1)\n",
            "Requirement already satisfied: yarl<2.0,>=1.17.0 in /opt/conda/lib/python3.10/site-packages (from aiohttp->openai==0.28.0) (1.18.3)\n",
            "Requirement already satisfied: typing-extensions>=4.1.0 in /opt/conda/lib/python3.10/site-packages (from multidict<7.0,>=4.5->aiohttp->openai==0.28.0) (4.12.2)\n",
            "Using cached openai-0.28.0-py3-none-any.whl (76 kB)\n",
            "Installing collected packages: openai\n",
            "  Attempting uninstall: openai\n",
            "    Found existing installation: openai 1.55.3\n",
            "    Uninstalling openai-1.55.3:\n",
            "      Successfully uninstalled openai-1.55.3\n",
            "Successfully installed openai-0.28.0\n",
            "\u001b[33mWARNING: Running pip as the 'root' user can result in broken permissions and conflicting behaviour with the system package manager. It is recommended to use a virtual environment instead: https://pip.pypa.io/warnings/venv\u001b[0m\u001b[33m\n",
            "\u001b[0m"
          ]
        }
      ],
      "source": [
        "!pip install openai==0.28.0\n"
      ]
    },
    {
      "cell_type": "code",
      "execution_count": null,
      "id": "c3ef4234-3c64-49c8-bfdb-222deef4913b",
      "metadata": {
        "id": "c3ef4234-3c64-49c8-bfdb-222deef4913b"
      },
      "outputs": [],
      "source": [
        "import openai\n",
        "# API key\n",
        "openai.api_key = \"paste-your-api-key-here\""
      ]
    },
    {
      "cell_type": "code",
      "execution_count": null,
      "id": "1b4a212a-3143-4c90-a01f-2143a9f36bb8",
      "metadata": {
        "id": "1b4a212a-3143-4c90-a01f-2143a9f36bb8",
        "outputId": "cb40de6b-1538-43bc-c60c-5be350e817b8"
      },
      "outputs": [
        {
          "name": "stdout",
          "output_type": "stream",
          "text": [
            "Solution:\n",
            " To solve the integral ∫sin(x) * e^x dx using integration by parts, we will apply the formula:\n",
            "\n",
            "∫u dv = uv - ∫v du.\n",
            "\n",
            "Let's choose u = sin(x) and dv = e^x dx, so that we have:\n",
            "du = cos(x) dx\n",
            "v = ∫e^x dx = e^x\n",
            "\n",
            "Now, we can apply the formula:\n",
            "∫sin(x) * e^x dx = sin(x) * e^x - ∫e^x * cos(x) dx.\n",
            "\n",
            "Now, we have a new integral to solve: ∫e^x * cos(x) dx. \n",
            "To integrate this, we will do integration by parts again. Let's choose u = cos(x) and dv = e^x dx, such that:\n",
            "du = -sin(x) dx\n",
            "v = ∫e^x dx = e^x\n",
            "\n",
            "Applying the formula for integration by parts to ∫e^x * cos(x) dx, we get:\n",
            "∫e^x * cos(x) dx = cos(x) * e^x - ∫(-sin(x) * e^x) dx\n",
            "                = cos(x) * e^x + ∫sin(x) * e^x dx.\n",
            "\n",
            "Now, substitute back the result into the original integral we were trying to solve:\n",
            "∫sin(x) * e^x dx = sin(x) * e^x - (cos(x) * e^x + ∫sin(x) * e^x dx)\n",
            "=> 2∫sin(x) * e^x dx = (sin(x) - cos(x)) * e^x\n",
            "\n",
            "Dividing by 2 on both sides:\n",
            "∫sin(x) * e^x dx = 1/2 * (sin(x) - cos(x)) * e^x + C,\n",
            "\n",
            "where C is the constant of integration.\n"
          ]
        }
      ],
      "source": [
        "# storing chat history\n",
        "chat_history = []\n",
        "\n",
        "def add_to_chat_history(role, content):\n",
        "    \"\"\"Adds a new message to the chat history.\"\"\"\n",
        "    chat_history.append({\"role\": role, \"content\": content})\n",
        "\n",
        "def solve_integral():\n",
        "    math_problem = \"Solve the integral of sin(x) * e^x dx using integration by parts and provide a detailed solution.\"\n",
        "    add_to_chat_history(\"user\", math_problem)\n",
        "\n",
        "    try:\n",
        "        math_response = openai.ChatCompletion.create(\n",
        "            model=\"gpt-3.5-turbo\",\n",
        "            messages=[\n",
        "                {\"role\": \"system\", \"content\": \"You are a helpful assistant that solves mathematical problems step by step.\"},\n",
        "                {\"role\": \"user\", \"content\": math_problem}\n",
        "            ]\n",
        "        )\n",
        "        solution = math_response.choices[0].message.content\n",
        "        add_to_chat_history(\"assistant\", solution)\n",
        "        print(\"Solution:\\n\", solution)\n",
        "    except Exception as e:\n",
        "        print(f\"An error occurred: {e}\")\n",
        "\n",
        "solve_integral()"
      ]
    },
    {
      "cell_type": "markdown",
      "source": [
        "Checking another math problem"
      ],
      "metadata": {
        "id": "WlWBkH13Sakm"
      },
      "id": "WlWBkH13Sakm"
    },
    {
      "cell_type": "code",
      "execution_count": null,
      "id": "02defd01-a6ab-4b6b-8c17-3f00626568eb",
      "metadata": {
        "id": "02defd01-a6ab-4b6b-8c17-3f00626568eb",
        "outputId": "c71a62f5-3448-4a7b-8af9-e48fea284702"
      },
      "outputs": [
        {
          "name": "stdout",
          "output_type": "stream",
          "text": [
            "Step 1 - Taylor Series Expansion Solution:\n",
            " To find the Taylor series expansion of ln(1+x) around x=0, we will use the Maclaurin series of ln(1+x), which is given by:\n",
            "\n",
            "ln(1+x) = x - x^2/2 + x^3/3 - x^4/4 + ...\n",
            "\n",
            "Now, let's derive this series term by term:\n",
            "\n",
            "1. Calculate the first derivative of ln(1+x):\n",
            "f'(x) = 1 / (1+x)\n",
            "\n",
            "2. Calculate the second derivative of ln(1+x):\n",
            "f''(x) = -1 / (1+x)^2\n",
            "\n",
            "3. Calculate the third derivative of ln(1+x):\n",
            "f'''(x) = 2 / (1+x)^3\n",
            "\n",
            "4. Calculate the fourth derivative of ln(1+x):\n",
            "f''''(x) = -3 * 2 / (1+x)^4\n",
            "\n",
            "5. Evaluate the derivatives at x=0 to find the coefficients of the Taylor series expansion:\n",
            "\n",
            "f(0) = ln(1) = 0\n",
            "f'(0) = 1\n",
            "f''(0) = -1\n",
            "f'''(0) = 2/1 = 2\n",
            "f''''(0) = -3*2 = -6\n",
            "\n",
            "Therefore, the Taylor series expansion of ln(1+x) around x=0 up to the 4th degree term is:\n",
            "\n",
            "ln(1+x) = x - x^2/2 + x^3/3 - x^4/4\n",
            "\n"
          ]
        }
      ],
      "source": [
        "def create_chat_sequence():\n",
        "    taylor_series_problem = (\"Find the Taylor series expansion of ln(1+x) around x=0 up to the 4th degree term. \"\n",
        "                             \"Provide a step-by-step derivation showing how each term is calculated.\")\n",
        "    add_to_chat_history(\"user\", taylor_series_problem)\n",
        "\n",
        "    try:\n",
        "        taylor_series_response = openai.ChatCompletion.create(\n",
        "            model=\"gpt-3.5-turbo\",\n",
        "            messages=[\n",
        "                {\"role\": \"system\", \"content\": \"You are a helpful assistant for solving mathematical problems.\"},\n",
        "                {\"role\": \"user\", \"content\": taylor_series_problem}\n",
        "            ]\n",
        "        )\n",
        "        solution1 = taylor_series_response.choices[0].message.content\n",
        "        add_to_chat_history(\"assistant\", solution1)  # Add response to chat history\n",
        "        print(\"Step 1 - Taylor Series Expansion Solution:\\n\", solution1)\n",
        "    except Exception as e:\n",
        "        print(f\"An error occurred: {e}\")\n",
        "\n",
        "create_chat_sequence()"
      ]
    },
    {
      "cell_type": "code",
      "source": [
        "!pip install PyPDF2 beautifulsoup4\n"
      ],
      "metadata": {
        "colab": {
          "base_uri": "https://localhost:8080/"
        },
        "id": "xH_G_FcCSxQ0",
        "outputId": "1887f1c0-13d3-4b5b-d49c-9f694470cd57"
      },
      "id": "xH_G_FcCSxQ0",
      "execution_count": null,
      "outputs": [
        {
          "output_type": "stream",
          "name": "stdout",
          "text": [
            "Requirement already satisfied: PyPDF2 in /usr/local/lib/python3.10/dist-packages (3.0.1)\n",
            "Requirement already satisfied: beautifulsoup4 in /usr/local/lib/python3.10/dist-packages (4.12.3)\n",
            "Requirement already satisfied: soupsieve>1.2 in /usr/local/lib/python3.10/dist-packages (from beautifulsoup4) (2.6)\n"
          ]
        }
      ]
    },
    {
      "cell_type": "code",
      "execution_count": null,
      "id": "ce138660-c59f-410a-9328-9691e6750344",
      "metadata": {
        "id": "ce138660-c59f-410a-9328-9691e6750344",
        "outputId": "b2e89650-94ef-4f40-ae91-1b6b697c8c3e"
      },
      "outputs": [
        {
          "name": "stdout",
          "output_type": "stream",
          "text": [
            "Error summarizing content: This model's maximum context length is 16385 tokens. However, your messages resulted in 31565 tokens. Please reduce the length of the messages.\n",
            "\n",
            "Processed Response for PDF: Asthma and Heart Disease Study:\n",
            "Rewritten Content for PDF: Asthma and Heart Disease Study:\n",
            "The study delves into investigating the correlation between asthma and comorbidities such as heart disease, depression, and chronic fatigue, with the objective of predicting a composite metric known as Broad Health Impact to assess the overall health impact on asthma patients. By utilizing data mining and predictive modeling techniques on NHIS data, the research uncovered various patterns and associations. Key discoveries encompassed an increase in asthma attack rates over time, the interconnection between asthma and chronic illnesses, the distribution of asthma severity levels, and insights into the health repercussions. The results notably indicated a noteworthy link between asthma severity and heart conditions, underscoring the necessity for targeted interventions and early detection approaches. The findings offer valuable insights for healthcare providers to identify high-risk asthma patients, diminish emergency visits, and elevate patient outcomes, thereby improving the quality of life. The study underscores the significance of holistic healthcare strategies dealing with asthma and its coexisting conditions, contributing to a deeper comprehension of asthma intricacies which can steer effective healthcare planning and resource allotment. Consequently, through this research, healthcare professionals can enhance patient care and tailor interventions for vulnerable populations, thus improving health outcomes and curbing healthcare expenses.\n",
            "\n",
            "Questions and Answers for PDF: Asthma and Heart Disease Study:\n",
            "\n",
            "Q1: What were the key findings of the study regarding the relationship between asthma and comorbid conditions?\n",
            "Answer: The study revealed key findings such as an increase in asthma attack rates over time, the correlation between asthma and chronic conditions, the distribution of asthma severity levels, and an association between asthma severity and heart conditions.\n",
            "\n",
            "Q2: Why is it essential to focus on targeted interventions and early detection strategies for asthma patients with heart conditions?\n",
            "Answer: Focusing on targeted interventions and early detection strategies for asthma patients with heart conditions is crucial because the study indicated a significant association between asthma severity and heart conditions. Early detection can lead to timely interventions that could improve patient outcomes and quality of life.\n",
            "\n",
            "Q3: How can healthcare providers utilize the insights from this research to improve patient care and reduce healthcare costs?\n",
            "Answer: Healthcare providers can utilize the insights from this research to identify high-risk asthma patients, reduce emergency visits, and tailor interventions effectively for at-risk populations. By doing so, they can enhance health outcomes, improve patient care, and ultimately reduce healthcare costs.\n",
            "\n",
            "\n",
            "Processed Response for Website: Machine Learning Overview:\n",
            "Rewritten Content for Machine Learning Overview:\n",
            "\n",
            "Machine learning is a field of artificial intelligence that focuses on developing algorithms and statistical models to enable computer systems to learn and improve from experience without being explicitly programmed. It encompasses a variety of techniques that allow machines to analyze large amounts of data, recognize patterns, and make decisions based on the insights gained. Machine learning is widely used in various applications such as image and speech recognition, medical diagnosis, financial forecasting, and autonomous vehicles.\n",
            "\n",
            "In machine learning, data plays a crucial role as algorithms are trained on data to make predictions or decisions. There are different types of machine learning approaches, including supervised learning, unsupervised learning, semi-supervised learning, reinforcement learning, and others. Each approach offers unique capabilities and is suitable for different types of problems.\n",
            "\n",
            "Various models are used in machine learning, such as artificial neural networks, decision trees, support vector machines, regression analysis, Bayesian networks, genetic algorithms, and more. These models help in representing and solving complex problems by learning patterns and relationships within the data.\n",
            "\n",
            "While machine learning has shown remarkable progress in many areas, it also comes with certain limitations and ethical considerations. Issues like explainability, overfitting, bias, and potential vulnerabilities are important factors to consider when developing and deploying machine learning systems.\n",
            "\n",
            "Overall, machine learning continues to evolve and transform various industries, offering new opportunities for innovation and problem-solving.\n",
            "\n",
            "Questions and Answers for Machine Learning Overview:\n",
            "\n",
            "Q1: What is machine learning?\n",
            "Answer: Machine learning is a subset of artificial intelligence that involves developing algorithms that allow computers to learn from data and make decisions or predictions without explicit programming.\n",
            "\n",
            "Q2: What are some common approaches in machine learning?\n",
            "Answer: Common approaches in machine learning include supervised learning, unsupervised learning, reinforcement learning, and semi-supervised learning, each serving different purposes in analyzing and interpreting data.\n",
            "\n",
            "Q3: What are some key considerations in machine learning?\n",
            "Answer: Key considerations in machine learning include the choice of appropriate models, handling data effectively, addressing limitations like bias and overfitting, and ensuring ethical practices in the development and deployment of machine learning systems.\n",
            "\n"
          ]
        }
      ],
      "source": [
        "import openai\n",
        "from PyPDF2 import PdfReader\n",
        "import requests\n",
        "from bs4 import BeautifulSoup\n",
        "max_length=5000\n",
        "\n",
        "def extract_text_from_website(url):\n",
        "    \"\"\"Extracts text from a website using requests and BeautifulSoup.\"\"\"\n",
        "    try:\n",
        "        headers = {\n",
        "            \"User-Agent\": \"Mozilla/5.0 (Windows NT 10.0; Win64; x64) AppleWebKit/537.36 (KHTML, like Gecko) Chrome/91.0.4472.124 Safari/537.36\"\n",
        "        }\n",
        "        response = requests.get(url, headers=headers)\n",
        "        response.raise_for_status()\n",
        "        soup = BeautifulSoup(response.content, 'html.parser')\n",
        "        text = soup.get_text(separator=\"\\n\").strip()\n",
        "        return text\n",
        "    except Exception as e:\n",
        "        print(f\"Error extracting text from website: {e}\")\n",
        "        return None\n",
        "\n",
        "def extract_text_from_pdf(pdf_path):\n",
        "    \"\"\"Extracts text from a PDF file.\"\"\"\n",
        "    try:\n",
        "        reader = PdfReader(pdf_path)\n",
        "        text = \"\"\n",
        "        for page in reader.pages:\n",
        "            text += page.extract_text()\n",
        "        return text\n",
        "    except Exception as e:\n",
        "        print(f\"Error extracting text from PDF: {e}\")\n",
        "        return None\n",
        "\n",
        "def rewrite_and_answer(source, content, questions):\n",
        "    \"\"\"Send content and questions to OpenAI API for rewriting and answering.\"\"\"\n",
        "    prompt = (\n",
        "        f\"Source: {source}\\n\\nContent:\\n{content}\\n\\n\"\n",
        "        \"Rewrite the content comprehensively and provide detailed answers to the questions below. Ensure clarity and use the following format:\\n\\n\"\n",
        "        \"Rewritten Content for {source}:\\n[Rewritten content here]\\n\\n\"\n",
        "        \"Questions and Answers for {source}:\\n\\n\"\n",
        "        \"Q1: [Question 1]\\nAnswer: [Answer to Question 1]\\n\\n\"\n",
        "        \"Q2: [Question 2]\\nAnswer: [Answer to Question 2]\\n\\n\"\n",
        "        \"Q3: [Question 3]\\nAnswer: [Answer to Question 3]\"\n",
        "    )\n",
        "    add_to_chat_history(\"user\", prompt)\n",
        "    try:\n",
        "        response = openai.ChatCompletion.create(\n",
        "            model=\"gpt-3.5-turbo\",\n",
        "            messages=[\n",
        "                {\"role\": \"system\", \"content\": \"You are a helpful assistant for rewriting content and answering questions.\"},\n",
        "                {\"role\": \"user\", \"content\": prompt}\n",
        "            ]\n",
        "        )\n",
        "        response_content = response.choices[0].message.content.strip()\n",
        "\n",
        "        print(f\"\\nProcessed Response for {source}:\\n{response_content}\\n\")\n",
        "    except Exception as e:\n",
        "        print(f\"An error occurred while communicating with the bot: {e}\")\n",
        "\n",
        "def summarize_large_text(content, max_length):\n",
        "    \"\"\"\n",
        "    Summarize large content to fit within the context window.\n",
        "    Args:\n",
        "        content (str): The content to summarize.\n",
        "        max_length (int): Maximum length of the summary in tokens or characters.\n",
        "    Returns:\n",
        "        str: Summarized content.\n",
        "    \"\"\"\n",
        "    if len(content) > max_length:\n",
        "        prompt = (\n",
        "            \"Summarize the following text comprehensively while keeping key details, \"\n",
        "            f\"within a maximum length of {max_length} characters:\\n\\n{content}\"\n",
        "        )\n",
        "        try:\n",
        "            response = openai.ChatCompletion.create(\n",
        "                model=\"gpt-3.5-turbo\",\n",
        "                messages=[\n",
        "                    {\"role\": \"system\", \"content\": \"You are a helpful summarization assistant.\"},\n",
        "                    {\"role\": \"user\", \"content\": prompt}\n",
        "                ]\n",
        "            )\n",
        "            return response.choices[0].message.content.strip()\n",
        "        except Exception as e:\n",
        "            print(f\"Error summarizing content: {e}\")\n",
        "            return content[:max_length]\n",
        "    return content\n",
        "\n",
        "# Main function\n",
        "def main():\n",
        "    pdf_path = \"project_paper.pdf\"\n",
        "    # Website URL\n",
        "    website_url = \"https://en.wikipedia.org/wiki/Machine_learning\"\n",
        "\n",
        "    content_pdf_text = extract_text_from_pdf(pdf_path)\n",
        "    if content_pdf_text:\n",
        "        content_pdf_text = summarize_large_text(content_pdf_text, max_length)\n",
        "\n",
        "    website_text = extract_text_from_website(website_url)\n",
        "    if website_text:\n",
        "        website_text = summarize_large_text(website_text, max_length)\n",
        "\n",
        "    # Questions for the PDF\n",
        "    pdf_questions = [\n",
        "        \"What is the relationship between asthma and heart disease as described in the study?\",\n",
        "        \"What is the purpose of using the chi-square test in the study?\",\n",
        "        \"How does the study suggest improving healthcare for asthma patients with coexisting conditions?\"\n",
        "    ]\n",
        "\n",
        "    # Questions for the Website\n",
        "    website_questions = [\n",
        "        \"What are the main types of machine learning?\",\n",
        "        \"How does machine learning improve recommendation systems?\",\n",
        "        \"What are some healthcare applications of machine learning?\"\n",
        "    ]\n",
        "\n",
        "    # Process PDF content and questions\n",
        "    if content_pdf_text:\n",
        "        rewrite_and_answer(\"PDF: Asthma and Heart Disease Study\", content_pdf_text, pdf_questions)\n",
        "\n",
        "    # Process website content and questions\n",
        "    if website_text:\n",
        "        rewrite_and_answer(\"Website: Machine Learning Overview\", website_text, website_questions)\n",
        "\n",
        "main()"
      ]
    },
    {
      "cell_type": "code",
      "execution_count": null,
      "id": "3aa2c2b5-52f5-4422-b01e-201761930aee",
      "metadata": {
        "id": "3aa2c2b5-52f5-4422-b01e-201761930aee",
        "outputId": "adfa636b-e83e-4e71-ef54-324debd082c0"
      },
      "outputs": [
        {
          "name": "stdout",
          "output_type": "stream",
          "text": [
            "Chat Summary:\n",
            "The conversation has revolved around the tasks of rewriting the content regarding a research paper on the relationship between asthma and comorbid conditions, and a website overview of machine learning. Each task outlined a detailed rewriting process along with a breakdown of key points and findings. The rewritten content for both sources provides a clear and concise summary of the original information presented in a more structured format. The subsequent steps will involve addressing specific questions related to each source to enhance the understanding and clarity of the rewritten material.\n"
          ]
        }
      ],
      "source": [
        "def create_chat_sequence():\n",
        "\n",
        "    summary_prompt = \"Summarize the entire conversation so far.\"\n",
        "    add_to_chat_history(\"user\", summary_prompt)\n",
        "\n",
        "    summary_response = openai.ChatCompletion.create(\n",
        "        model=\"gpt-3.5-turbo\",\n",
        "        messages=chat_history\n",
        "    )\n",
        "    summary_answer = summary_response.choices[0].message.content\n",
        "    add_to_chat_history(\"assistant\", summary_answer)\n",
        "    print(f\"Chat Summary:\\n{summary_answer}\")\n",
        "\n",
        "create_chat_sequence()"
      ]
    },
    {
      "cell_type": "code",
      "execution_count": null,
      "id": "eb0572e7-3cb7-4d34-a370-bdf59f187dc6",
      "metadata": {
        "id": "eb0572e7-3cb7-4d34-a370-bdf59f187dc6"
      },
      "outputs": [],
      "source": []
    },
    {
      "cell_type": "code",
      "execution_count": null,
      "id": "db7de771-faa1-45da-9a20-62db00022b5f",
      "metadata": {
        "id": "db7de771-faa1-45da-9a20-62db00022b5f"
      },
      "outputs": [],
      "source": []
    }
  ],
  "metadata": {
    "kernelspec": {
      "display_name": "Python 3 (ipykernel)",
      "language": "python",
      "name": "python3"
    },
    "language_info": {
      "codemirror_mode": {
        "name": "ipython",
        "version": 3
      },
      "file_extension": ".py",
      "mimetype": "text/x-python",
      "name": "python",
      "nbconvert_exporter": "python",
      "pygments_lexer": "ipython3",
      "version": "3.10.13"
    },
    "colab": {
      "provenance": []
    }
  },
  "nbformat": 4,
  "nbformat_minor": 5
}